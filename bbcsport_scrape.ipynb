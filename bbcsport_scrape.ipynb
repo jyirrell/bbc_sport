{
 "cells": [
  {
   "cell_type": "code",
   "execution_count": 114,
   "id": "a0d43f48",
   "metadata": {},
   "outputs": [],
   "source": [
    "import pandas as pd\n",
    "import numpy as np\n",
    "from bs4 import BeautifulSoup\n",
    "import requests\n",
    "from tqdm import tqdm\n",
    "import time\n",
    "import pprint\n",
    "from selenium import webdriver\n",
    "from webdriver_manager.chrome import ChromeDriverManager\n",
    "from selenium.webdriver.common.by import By\n",
    "from selenium.webdriver.chrome.service import Service\n",
    "from selenium.webdriver.chrome.options import Options\n",
    "import re\n",
    "from datetime import datetime"
   ]
  },
  {
   "cell_type": "markdown",
   "id": "8db0413c",
   "metadata": {},
   "source": [
    "notes - when NLPing remove:\n",
    "WSL\n",
    "women's\n",
    "super\n",
    "she\n",
    "he\n",
    "her\n",
    "him\n",
    "his\n"
   ]
  },
  {
   "cell_type": "code",
   "execution_count": 3,
   "id": "4bbf3103",
   "metadata": {},
   "outputs": [],
   "source": [
    "url = 'https://www.bbc.co.uk/sport/football/64916616'\n",
    "url2 = 'https://www.bbc.co.uk/sport/football/64852077'"
   ]
  },
  {
   "cell_type": "code",
   "execution_count": 7,
   "id": "55ff0676",
   "metadata": {},
   "outputs": [],
   "source": [
    "r = requests.get(url)\n",
    "soup = BeautifulSoup(r.text, 'html.parser')"
   ]
  },
  {
   "cell_type": "markdown",
   "id": "3d89bb20",
   "metadata": {},
   "source": [
    "### Finding the title"
   ]
  },
  {
   "cell_type": "code",
   "execution_count": 16,
   "id": "9ada6228",
   "metadata": {
    "scrolled": true
   },
   "outputs": [
    {
     "data": {
      "text/plain": [
       "\"Ella Toone: Euro 2022 winner says there should be 'no stigma' over fashion on the pitch\""
      ]
     },
     "execution_count": 16,
     "metadata": {},
     "output_type": "execute_result"
    }
   ],
   "source": [
    "title = soup.find('h1').text"
   ]
  },
  {
   "cell_type": "code",
   "execution_count": 32,
   "id": "ac07804d",
   "metadata": {},
   "outputs": [],
   "source": [
    "r2 = requests.get(url2)\n",
    "soup2 = BeautifulSoup(r2.text, 'html.parser')"
   ]
  },
  {
   "cell_type": "code",
   "execution_count": 33,
   "id": "18a01392",
   "metadata": {},
   "outputs": [
    {
     "data": {
      "text/plain": [
       "'Newcastle 2-1 Wolves: Alexander Isak and Miguel Almiron goals earn home victory'"
      ]
     },
     "execution_count": 33,
     "metadata": {},
     "output_type": "execute_result"
    }
   ],
   "source": [
    "soup2.find('h1').text"
   ]
  },
  {
   "cell_type": "code",
   "execution_count": 109,
   "id": "90eb938c",
   "metadata": {},
   "outputs": [
    {
     "data": {
      "text/plain": [
       "'SUN 12 Mar 2023'"
      ]
     },
     "execution_count": 109,
     "metadata": {},
     "output_type": "execute_result"
    }
   ],
   "source": [
    "soup3.find(\"time\").text"
   ]
  },
  {
   "cell_type": "code",
   "execution_count": 118,
   "id": "da83617a",
   "metadata": {},
   "outputs": [
    {
     "name": "stdout",
     "output_type": "stream",
     "text": [
      "2023-03-12\n"
     ]
    }
   ],
   "source": [
    "print(datetime.strptime(soup3.find(\"time\").text, '%a %d %b %Y').date())"
   ]
  },
  {
   "cell_type": "markdown",
   "id": "ffbbd4c3",
   "metadata": {},
   "source": [
    "### match report or article?"
   ]
  },
  {
   "cell_type": "code",
   "execution_count": 35,
   "id": "0dbf4d91",
   "metadata": {},
   "outputs": [
    {
     "data": {
      "text/plain": [
       "\"SUN 12 Mar 2023Premier LeagueNewcastleNewcastle United2WolvesWolverhampton Wanderers1Isak (26' minutes),\\xa0Almirón (79' minutes)FTHT 1-0Hwang Hee-chan (70' minutes)Trippier (26' minutes),\\xa0Willock (79' minutes)Assists\""
      ]
     },
     "execution_count": 35,
     "metadata": {},
     "output_type": "execute_result"
    }
   ],
   "source": [
    "soup2.find(class_ = \"event-header\").text"
   ]
  },
  {
   "cell_type": "code",
   "execution_count": 36,
   "id": "536fe088",
   "metadata": {},
   "outputs": [
    {
     "ename": "AttributeError",
     "evalue": "'NoneType' object has no attribute 'text'",
     "output_type": "error",
     "traceback": [
      "\u001b[0;31m---------------------------------------------------------------------------\u001b[0m",
      "\u001b[0;31mAttributeError\u001b[0m                            Traceback (most recent call last)",
      "Input \u001b[0;32mIn [36]\u001b[0m, in \u001b[0;36m<cell line: 1>\u001b[0;34m()\u001b[0m\n\u001b[0;32m----> 1\u001b[0m \u001b[43msoup\u001b[49m\u001b[38;5;241;43m.\u001b[39;49m\u001b[43mfind\u001b[49m\u001b[43m(\u001b[49m\u001b[43mclass_\u001b[49m\u001b[43m \u001b[49m\u001b[38;5;241;43m=\u001b[39;49m\u001b[43m \u001b[49m\u001b[38;5;124;43m\"\u001b[39;49m\u001b[38;5;124;43mevent-header\u001b[39;49m\u001b[38;5;124;43m\"\u001b[39;49m\u001b[43m)\u001b[49m\u001b[38;5;241;43m.\u001b[39;49m\u001b[43mtext\u001b[49m\n",
      "\u001b[0;31mAttributeError\u001b[0m: 'NoneType' object has no attribute 'text'"
     ]
    }
   ],
   "source": [
    "soup.find(class_ = \"event-header\").text"
   ]
  },
  {
   "cell_type": "markdown",
   "id": "661d7bcd",
   "metadata": {},
   "source": [
    "### What section?"
   ]
  },
  {
   "cell_type": "code",
   "execution_count": 42,
   "id": "fb19396d",
   "metadata": {},
   "outputs": [
    {
     "name": "stdout",
     "output_type": "stream",
     "text": [
      " Premier League\n"
     ]
    }
   ],
   "source": [
    "print(soup2.find(class_ = \"story-info\").text.split(\"section\",1)[1])"
   ]
  },
  {
   "cell_type": "code",
   "execution_count": 43,
   "id": "92f092d0",
   "metadata": {},
   "outputs": [
    {
     "name": "stdout",
     "output_type": "stream",
     "text": [
      " Women's Football\n"
     ]
    }
   ],
   "source": [
    "print(soup.find(class_ = \"story-info\").text.split(\"section\",1)[1])"
   ]
  },
  {
   "cell_type": "markdown",
   "id": "33fa5406",
   "metadata": {},
   "source": [
    "### Scrape the main content"
   ]
  },
  {
   "cell_type": "code",
   "execution_count": 103,
   "id": "6a46f852",
   "metadata": {},
   "outputs": [
    {
     "data": {
      "text/plain": [
       "'Ella Toone scored the opening goal as England beat Germany in the Euro 2022 finalAfter scoring one of the most important goals in English football history, Ella Toone made a surprising admission - she was \"gutted\" not to be wearing her eyelash extensions.Toone, who scored the opener in England\\'s Euro 2022 final victory over Germany with a marvellous chipped finish, has played a huge part in the explosion in popularity and attention for women\\'s football in the last few months.But the Manchester United midfielder is also keen not to let that added attention stop her from looking however she wants.Other women\\'s players have spoken about how they feel judged more on their looks than their footballing talent. Aston Villa midfielder Alisha Lehmann has been among those to express disappointmentexternal-link at being judged more for her Instagram output than her on-pitch achievements.But Toone, 23, says she is proud to be proving that when it comes to false lashes or football, there does not need to be a choice.\"I like that young girls can now look up to women like us,\" she told BBC Sport.\"I love getting my lashes done, my nails done. I always say: you feel good, you look good, you play good.\"I can still go out there and play football. There should be no stigma around the way you look and how you dress.\"Another aspect of women\\'s football in England is the close bond between players and fans - yet a side effect of the growth of the women\\'s game is the risk of losing that interaction. Toone is less able to stop for selfies and sign shirts when they play at Old Trafford compared with the games at Leigh Sports Village.\"Women\\'s football is very different, we connect with fans so much more,\" says Toone. \"The stadiums are usually much smaller so we\\'re used to being able to see everyone, sign shirts and take pictures, connect with everyone.\"As it continues to grow, that\\'s not sustainable any more. It\\'s about finding different ways to connect.\"Toone appears to have done that on social media, where she entertains her 265,000 TikTok followers with rap battles and funny phone calls with her nan. But she won\\'t let that distract her from her professional ambitions.\"Football is always first and I want to be remembered as a good footballer. If people connect with me away from football, that\\'s OK too.\"\\'We have a big target on our backs now\\'Toone has played in every WSL game for Manchester United this seasonIt is no wonder Toone wants to focus on football, with her club side Manchester United now firmly on the hunt for their first Women\\'s Super League title.The Tyldesley-born player first joined United as an eight-year-old, before leaving six years later due to a lack of a senior women\\'s side.When United did finally form a women\\'s team and entered the Championship in 2018, Toone was part of the original squad and she has been a fixture in their rise from the second tier to the top of the WSL.\"We\\'ve been building now for five years,\" she says. \"We want to perform well every weekend. We\\'ve strengthened really well, our depth is the best it has ever been. It\\'s really exciting.\"It was nice to be here from the start. Now we keep improving, hopefully keep performing well.\"Come the summer, focus will switch to the World Cup, where England begin their campaign on 22 July against Haiti in Brisbane.Since their history-making victory in the Euros last summer, being a Lioness comes with added pressure and expectations.\"It\\'s changed massively. A lot more people recognise me now,\" Toone says. \"But that\\'s part and parcel of it, more people recognise us. I try to take everything in my stride.\"We have a big target on our backs now. That\\'s the pressure we love. We go into each game wanting to do what we love - make the nation proud.\"Elon Musk\\'s Twitter Storm: Find out how the new owner is transforming the companyAre eco laundry products better for the environment? Greg Foot investigates how such claims come out in the wash...'"
      ]
     },
     "execution_count": 103,
     "metadata": {},
     "output_type": "execute_result"
    }
   ],
   "source": [
    "soup.find(class_=\"qa-story-body\").text.split(\"Player of the match\",1)[0].split(\"Line-upsMatch Stats\", 1)[0]"
   ]
  },
  {
   "cell_type": "code",
   "execution_count": 56,
   "id": "127aa2f1",
   "metadata": {
    "scrolled": true
   },
   "outputs": [
    {
     "data": {
      "text/plain": [
       "'Miguel Almiron is Newcastle\\'s top scorer this season with 11 Premier League goals - more than in his previous four seasons combined for the clubNewcastle revived their bid to finish in the Premier League\\'s top four with a battling victory over Wolves at St James\\' Park.Substitute Miguel Almiron scored the winner with 12 minutes left as the Magpies ended a run of three straight defeats in all competitions to leapfrog Liverpool into fifth with a two-point lead and a game in hand, and move within four points of fourth-placed Tottenham, who have played two games more.Hwang Hee-chan, another substitute, had levelled for Wolves seconds after coming on to cancel out Alexander Isak\\'s towering first-half header.Wolves were second best for large periods but will feel aggrieved that they were not awarded a penalty, and that Nick Pope was not sent off, when the Newcastle goalkeeper appeared to take down Raul Jimenez six minutes before Isak\\'s opener, with referee Andy Madley waving away their appeals.Pope then went on to make a number of fine saves to deny Julen Lopetegui\\'s side, who stay 13th and miss the chance to move six points clear of the relegation zone.Live text coverage of Newcastle v Wolves and Sunday\\'s other Premier League gamesVisit our Newcastle United pageGo straight to our Wolves contentNewcastle end losing runSpeaking before the game, Eddie Howe said he hoped for a \"spark or individual moment\" to get his Newcastle team\\'s flagging season back on track and it arrived courtesy of top scorer Almiron, whose fine individual season continued with an 11th goal of the season.It is Newcastle\\'s first win in six games in all competitions and their first home win in the Premier League since a 1-0 victory over Fulham in mid-January.\"The first half performance in general was very good,\" Howe told Sky Sports after the game. \"Alexander Isak scored a massive goal for us. When it\\'s a one-goal lead, it\\'s very delicate. It should have been more at half-time.\"Wolves came back into the game, but the character shown by the group to go again and get the winning goal is a great feeling for us.\"After a quiet start, their opener arrived when Kieran Trippier\\'s dangerous free kick was met by Isak, who edged clear of his marker and buried a powerful header into the corner.That sparked Newcastle into life and they came close to a second goal when Bruno Guimaraes hit the bar with a header from close range after Dan Burn had helped Trippier\\'s corner back into the six-yard box.Trippier was guilty of a defensive error to allow Wolves to level in the second half when he slipped and collided with Pope as he attempted a clearance, the ball falling at the feet of Hwang, who tapped into an open net seconds after coming on to the pitch.After Almiron restored Newcastle\\'s lead, Sven Botman came close to a third in stoppage time when he blazed wide from six yards after some wonderful interplay between the Paraguayan and Guimaraes.Wolves rue non-penalty callThough Newcastle deserved their victory, Wolves will feel the decisive moment of the match went against them when it was still goalless.Pope miscontrolled a back pass that was intercepted by Jimenez and the Mexico striker appeared to be bodychecked by the England goalkeeper as he attempted to run on to the ball.Referee Madley, who was a considerable distance away, waved away their appeals and the video assistant referee did not ask the official to take a second look on the monitor.\"For me, we should have had a penalty. We are very unlucky with the referee,\" Lopetegui told Sky Sports.\"In the second half, we improved a lot. We changed a lot of things and were able to get at them.\"It was a pity that we had no changes left to make after they scored. We lost against a very good team.\"Despite going into the game as the Premier League\\'s lowest scorers, Wolves created a number of decent opportunities, with Daniel Podence hitting the post with a fizzing low drive shortly before the interval, while Pedro Neto and Joao Moutinho drew smart stops from Pope before Hwang\\'s equaliser.But the defeat, combined with results elsewhere over the weekend, has allowed a number of teams below Wolves to close the gap in what becoming an unpredictable relegation battle, with just five points separating the bottom nine.That makes Wolves\\' next two matches, against fellow strugglers Leeds and Nottingham Forest, hugely significant as they look to secure a fifth successive season in the top flight.Player of the matchRúben NevesRúben Neveswith an average of 7.80NewcastleNewcastle UnitedNewcastle UnitedWolvesWolverhampton WanderersWolverhampton WanderersNewcastle UnitedAvgSquad number14Player nameIsakAverage rating7.47Squad number24Player nameAlmirónAverage rating7.34Squad number2Player nameTrippierAverage rating7.14Squad number10Player nameSaint-MaximinAverage rating6.94Squad number39Player nameBruno GuimarãesAverage rating6.81Squad number28Player nameWillockAverage rating6.80Squad number5Player nameSchärAverage rating6.70Squad number23Player nameMurphyAverage rating6.68Squad number4Player nameBotmanAverage rating6.66Squad number33Player nameBurnAverage rating6.58Squad number22Player namePopeAverage rating6.30Squad number11Player nameRitchieAverage rating5.89Squad number9Player nameWilsonAverage rating5.85Squad number36Player nameS LongstaffAverage rating5.47Wolverhampton WanderersAvgSquad number8Player nameRúben NevesAverage rating7.80Squad number11Player nameHwang Hee-chanAverage rating6.83Squad number37Player nameTraoréAverage rating6.20Squad number15Player nameDawsonAverage rating6.17Squad number1Player nameJosé SáAverage rating6.11Squad number10Player nameDaniel PodenceAverage rating6.09Squad number9Player nameJiménezAverage rating6.07Squad number7Player namePedro NetoAverage rating6.02Squad number27Player nameMatheus NunesAverage rating5.99Squad number23Player nameKilmanAverage rating5.98Squad number5Player nameLeminaAverage rating5.97Squad number28Player nameJoão MoutinhoAverage rating5.97Squad number22Player nameNélson SemedoAverage rating5.91Squad number19Player nameJonnyAverage rating5.78Squad number3Player nameAït-NouriAverage rating5.74Squad number4Player nameCollinsAverage rating5.67Line-upsMatch StatsLive TextLine-upsNewcastleFormation  4-3-322Pope2Trippier5Schär4Botman33Burn36S Longstaff39Bruno Guimarães28Willock23Murphy14Isak10Saint-Maximin22Pope2Trippier5Schär4Botman33Burn36S Longstaff39Bruno Guimarães28Willock23MurphySubstituted forRitchieat 85\\'minutes14IsakBooked at 68minsSubstituted forWilsonat 68\\'minutes10Saint-MaximinSubstituted forAlmirónat 68\\'minutesSubstitutes1Dúbravka3Dummett6Lascelles9Wilson11Ritchie13Targett19Manquillo24Almirón32AndersonWolvesFormation  4-2-3-11Sá22Nélson Semedo15Dawson23Kilman19Castro Otto8Neves5Lemina37Traoré28João Moutinho10Podence9Jiménez1Sá22Nélson SemedoBooked at 58mins15Dawson23Kilman19Castro OttoSubstituted forAït-Nouriat 69\\'minutes8NevesSubstituted forNunesat 68\\'minutes5Lemina37TraoréSubstituted forNetoat 45\\'minutes28João MoutinhoSubstituted forCollinsat 75\\'minutes10PodenceBooked at 44minsSubstituted forHwang Hee-chanat 69\\'minutes9JiménezSubstitutes3Aït-Nouri4Collins7Neto11Hwang Hee-chan12Matheus Cunha24Gomes25Bentley27Nunes35João GomesReferee:Andy MadleyAttendance:52,240Match StatsHome TeamNewcastleAway TeamWolvesPossessionHome42%Away58%ShotsHome19Away7Shots on TargetHome8Away4CornersHome10Away3FoulsHome11Away10Live Text Post updateMatch ends, Newcastle United 2, Wolverhampton Wanderers 1.90\\'+6\\'Full TimeSecond Half ends, Newcastle United 2, Wolverhampton Wanderers 1.90\\'+5\\'Post updateCorner,  Wolverhampton Wanderers. Conceded by Dan Burn.90\\'+4\\'Post updateAttempt missed. Sven Botman (Newcastle United) right footed shot from the centre of the box is just a bit too high. Assisted by Miguel Almirón following a corner.90\\'+3\\'Post updateCorner,  Newcastle United. Conceded by Matheus Nunes.90\\'+2\\'Post updateFoul by Rayan Aït-Nouri (Wolverhampton Wanderers).90\\'+2\\'Post updateBruno Guimarães (Newcastle United) wins a free kick in the defensive half.90\\'+1\\'Post updateRayan Aït-Nouri (Wolverhampton Wanderers) wins a free kick in the defensive half.90\\'+1\\'Post updateFoul by Miguel Almirón (Newcastle United).90\\'Post updateFoul by Mario Lemina (Wolverhampton Wanderers).90\\'Post updateBruno Guimarães (Newcastle United) wins a free kick in the defensive half.88\\'Post updateNélson Semedo (Wolverhampton Wanderers) wins a free kick in the defensive half.88\\'Post updateFoul by Dan Burn (Newcastle United).85\\'Post updateAttempt blocked. Kieran Trippier (Newcastle United) right footed shot from outside the box is blocked.85\\'SubstitutionSubstitution, Newcastle United. Matt Ritchie replaces Jacob Murphy.79\\'goalGoal!Goal!  Newcastle United 2, Wolverhampton Wanderers 1. Miguel Almirón (Newcastle United) left footed shot from the right side of the box to the bottom left corner. Assisted by Joe Willock.78\\'Post updateJosé Sá (Wolverhampton Wanderers) wins a free kick in the defensive half.78\\'Post updateFoul by Callum Wilson (Newcastle United).75\\'SubstitutionSubstitution, Wolverhampton Wanderers. Nathan Collins replaces João Moutinho.74\\'Post updateMatheus Nunes (Wolverhampton Wanderers) wins a free kick in the defensive half.Page 1 of 6rewindpreviousNavigate to the next pagenextNavigate to the last pageforwardOur coverage of your Premier League club is bigger and better than ever before - here\\'s everything you need to know to make sure you never miss a moment'"
      ]
     },
     "execution_count": 56,
     "metadata": {},
     "output_type": "execute_result"
    }
   ],
   "source": [
    "soup2.find(class_=\"qa-story-body\").text"
   ]
  },
  {
   "cell_type": "code",
   "execution_count": 101,
   "id": "aff974b5",
   "metadata": {},
   "outputs": [
    {
     "data": {
      "text/plain": [
       "'Miguel Almiron is Newcastle\\'s top scorer this season with 11 Premier League goals - more than in his previous four seasons combined for the clubNewcastle revived their bid to finish in the Premier League\\'s top four with a battling victory over Wolves at St James\\' Park.Substitute Miguel Almiron scored the winner with 12 minutes left as the Magpies ended a run of three straight defeats in all competitions to leapfrog Liverpool into fifth with a two-point lead and a game in hand, and move within four points of fourth-placed Tottenham, who have played two games more.Hwang Hee-chan, another substitute, had levelled for Wolves seconds after coming on to cancel out Alexander Isak\\'s towering first-half header.Wolves were second best for large periods but will feel aggrieved that they were not awarded a penalty, and that Nick Pope was not sent off, when the Newcastle goalkeeper appeared to take down Raul Jimenez six minutes before Isak\\'s opener, with referee Andy Madley waving away their appeals.Pope then went on to make a number of fine saves to deny Julen Lopetegui\\'s side, who stay 13th and miss the chance to move six points clear of the relegation zone.Live text coverage of Newcastle v Wolves and Sunday\\'s other Premier League gamesVisit our Newcastle United pageGo straight to our Wolves contentNewcastle end losing runSpeaking before the game, Eddie Howe said he hoped for a \"spark or individual moment\" to get his Newcastle team\\'s flagging season back on track and it arrived courtesy of top scorer Almiron, whose fine individual season continued with an 11th goal of the season.It is Newcastle\\'s first win in six games in all competitions and their first home win in the Premier League since a 1-0 victory over Fulham in mid-January.\"The first half performance in general was very good,\" Howe told Sky Sports after the game. \"Alexander Isak scored a massive goal for us. When it\\'s a one-goal lead, it\\'s very delicate. It should have been more at half-time.\"Wolves came back into the game, but the character shown by the group to go again and get the winning goal is a great feeling for us.\"After a quiet start, their opener arrived when Kieran Trippier\\'s dangerous free kick was met by Isak, who edged clear of his marker and buried a powerful header into the corner.That sparked Newcastle into life and they came close to a second goal when Bruno Guimaraes hit the bar with a header from close range after Dan Burn had helped Trippier\\'s corner back into the six-yard box.Trippier was guilty of a defensive error to allow Wolves to level in the second half when he slipped and collided with Pope as he attempted a clearance, the ball falling at the feet of Hwang, who tapped into an open net seconds after coming on to the pitch.After Almiron restored Newcastle\\'s lead, Sven Botman came close to a third in stoppage time when he blazed wide from six yards after some wonderful interplay between the Paraguayan and Guimaraes.Wolves rue non-penalty callThough Newcastle deserved their victory, Wolves will feel the decisive moment of the match went against them when it was still goalless.Pope miscontrolled a back pass that was intercepted by Jimenez and the Mexico striker appeared to be bodychecked by the England goalkeeper as he attempted to run on to the ball.Referee Madley, who was a considerable distance away, waved away their appeals and the video assistant referee did not ask the official to take a second look on the monitor.\"For me, we should have had a penalty. We are very unlucky with the referee,\" Lopetegui told Sky Sports.\"In the second half, we improved a lot. We changed a lot of things and were able to get at them.\"It was a pity that we had no changes left to make after they scored. We lost against a very good team.\"Despite going into the game as the Premier League\\'s lowest scorers, Wolves created a number of decent opportunities, with Daniel Podence hitting the post with a fizzing low drive shortly before the interval, while Pedro Neto and Joao Moutinho drew smart stops from Pope before Hwang\\'s equaliser.But the defeat, combined with results elsewhere over the weekend, has allowed a number of teams below Wolves to close the gap in what becoming an unpredictable relegation battle, with just five points separating the bottom nine.That makes Wolves\\' next two matches, against fellow strugglers Leeds and Nottingham Forest, hugely significant as they look to secure a fifth successive season in the top flight.'"
      ]
     },
     "execution_count": 101,
     "metadata": {},
     "output_type": "execute_result"
    }
   ],
   "source": [
    "article = soup2.find(class_=\"qa-story-body\").text.split(\"Player of the match\",1)[0]\n",
    "article.split(\"LineUpsMatchStats\", 1)[0]"
   ]
  },
  {
   "cell_type": "code",
   "execution_count": 96,
   "id": "34d6edf3",
   "metadata": {},
   "outputs": [],
   "source": [
    "url3 = 'https://www.bbc.co.uk/sport/football/64852038'\n",
    "r3 = requests.get(url3)\n",
    "soup3 = BeautifulSoup(r3.text, 'html.parser')"
   ]
  },
  {
   "cell_type": "code",
   "execution_count": 97,
   "id": "1b747fe3",
   "metadata": {},
   "outputs": [
    {
     "data": {
      "text/plain": [
       "'Women\\'s Super League Highlights: Chelsea 1-0 Man UtdSam Kerr\\'s brilliant first-half strike was enough to give Chelsea a crucial victory over Manchester United and return them to the top of the Women\\'s Super League.Emma Hayes\\' injury-hit side started the day a point behind United, albeit with a game in hand, but Kerr\\'s 23rd-minute goal decided a tight game and gave Chelsea a huge win in a thrilling title race.United dominated possession early on but were given two warnings as Kerr twice tested visiting goalkeeper Mary Earps. However, there was no let off the third time.Lauren James played a pinpoint ball over the top from the right touchline, Kerr timed her run to perfection, brought the ball down on her chest, then lifted it gloriously over Earps and into the far corner.Follow live updates of Sunday\\'s WSL actionMarc Skinner\\'s side had an opportunity to equalise almost immediately when a Chelsea slip allowed Ella Toone space in the box. But the England attacking midfielder seemed torn between going for goal and crossing, and the result was neither one nor the other as the ball sailed wide.United felt they should have had a penalty in the 33rd minute when Nikita Parris went down under contact from Kadeisha Buchanan, but referee Cheryl Foster waved played on.Kerr remained Chelsea\\'s main threat in the second half, muscling Maya le Tissier off the ball before side-footing just wide. And while United pushed for a leveller in the closing stages, they failed to create any clear chances and the hosts held on.\"We deserved it - that was a Chelsea performance,\" Hayes said.\"Depleted - we have a sickness bug in the camp - we couldn\\'t play Erin Cuthbert carrying a knock and Jelena Cankovic is carrying a knock too. \"What a tremendous squad I have and I\\'ve been saying it every week that it was time for other players to step up.\"It\\'s just a massive three points and when we came into the game, we had played two games more than Manchester United since they last kicked-off.\"They played Leicester earlier last weekend, so to win like that and against a team who are top of the league is amazing for my team - fantastic effort.\"Chelsea are now two points clear at the top as they bid for a sixth WSL title.Kerr quality helps Chelsea overcome injury problems\\'One of the goals of the season\\' - Kerr hits superb openerThe depth of talent available to Chelsea is no secret but with Fran Kirby, Guro Reiten, Pernille Harder, Katerina Svitkova and Erin Cuthbert all unavailable, they needed every last bit of it against United.Even in a team of stars, Kerr has often shone brightest and - like so many great players - has a knack of delivering when it matters most.In a game of few chances, Kerr was a threat throughout with her very presence seeming to unnerve a United backline that had been breached just eight times in the WSL this campaign.\"Listen, she should have had a hat-trick,\" Hayes added. \"To be fair, I\\'ll say that because that\\'s how good she is. \"We set up really well to get her into good goalscoring positions - and let\\'s talk about the work she does for the team defensively because everybody had to put a shift in.\"An early ball over the top was not fully dealt with by the away team and Kerr was able to steal in and bring a save from Earps.After 12 minutes, Melanie Leupolz slid the ball through to Kerr and after holding off Le Tissier, saw her left-footed shot saved by the legs of Earps.There was nothing the England keeper could do when Kerr next went through, though. The pass from James was exquisite, the first touch from the striker was excellent but the angle wasn\\'t easy and Le Tissier was on her shoulder.Kerr made the lobbed finish look simple. A moment of genius that deserved to win such a mammoth top-of-the-table clash.A week after losing the League Cup final, Chelsea have taken a big stride towards a fifth WSL crown in six years.United lack cutting edge as title bid faltersAfter finishing fourth last season, that United are even in a title race shows the progress they have made.At the home of the defending champions, they controlled possession for long spells of the game and, for all that Kerr tormented the defence, they still managed to limit Chelsea\\'s opportunities.But at no stage did they really look like unlocking a stubborn home defence.\"We knew we are going to be without the ball for large periods and everyone was disciplined in their roles which they carried out the gameplan to perfection, \" Chelsea boss Hayes said.Toone had the chance to create something just after the goal but she and Alessia Russo were largely kept quiet by Chelsea.The non-penalty award after Parris appeared to be tripped by Buchanan will rankle but given the lofty ambitions for this side, Skinner will also be frustrated by the failure to trouble an under-strength Chelsea more.Millie Turner\\'s back-post header and a sliced effort from Leah Galton were as close as they came with Chelsea able to keep them at arm\\'s length.The title race still has a way to go but with Chelsea in a position to stretch their lead to five points by winning their game in hand, there is no more margin for error and United cannot afford another off day from an attack that has been so prolific for much of the season.Line-upsMatch StatsLive TextLine-upsChelsea WomenFormation  4-2-3-130Berger15Périsset26Buchanan4Bright7Carter8Leupolz5Ingle10James17Fleming21Charles20Kerr30Berger15Périsset26Buchanan4Bright7Carter8LeupolzBooked at 34mins5Ingle10JamesSubstituted forRytting Kanerydat 62\\'minutes17FlemingSubstituted forErikssonat 75\\'minutes21CharlesSubstituted forMjeldeat 90+1\\'minutes20KerrSubstitutes1Musovic16Eriksson18Mjelde19Rytting Kaneryd27Abdullina28CankovicMan Utd WomenFormation  4-2-3-127Earps2Batlle15Le Tissier21Turner6Blundell12Ladd10Zelem22Parris7Toone11Galton23Russo27Earps2Batlle15Le Tissier21Turner6Blundell12LaddSubstituted forGarcíaat 90\\'minutes10Zelem22ParrisSubstituted forMannionat 82\\'minutes7TooneSubstituted forWilliamsat 72\\'minutes11GaltonSubstituted forThomasat 71\\'minutes23RussoSubstitutes3Thorisdóttir5Mannion8Bøe Risa9Thomas16Naalsund17García28Williams29Cascarino32BaggaleyReferee:Cheryl FosterAttendance:3,277Match StatsHome TeamChelsea WomenAway TeamMan Utd WomenPossessionHome37%Away63%ShotsHome9Away8Shots on TargetHome3Away3CornersHome1Away2FoulsHome8Away4Live Text Post updateMatch ends, Chelsea Women 1, Manchester United Women 0.90\\'+5\\'Full TimeSecond Half ends, Chelsea Women 1, Manchester United Women 0.90\\'+2\\'Post updateKatie Zelem (Manchester United Women) wins a free kick on the right wing.90\\'+2\\'Post updateFoul by Sophie Ingle (Chelsea Women).90\\'+1\\'SubstitutionSubstitution, Chelsea Women. Maren Mjelde replaces Niamh Charles.90\\'+1\\'Post updateOffside, Chelsea Women. Niamh Charles tries a through ball, but Sam Kerr is caught offside.90\\'SubstitutionSubstitution, Manchester United Women. Lucía García replaces Hayley Ladd.89\\'Post updateAttempt missed. Sam Kerr (Chelsea Women) left footed shot from the left side of the box is close, but misses to the left. Assisted by Sophie Ingle.87\\'Post updateOffside, Manchester United Women. Maya Le Tissier tries a through ball, but Alessia Russo is caught offside.84\\'Post updateDelay over. They are ready to continue.83\\'Post updateDelay in match  because of an injury Ann-Katrin Berger (Chelsea Women).82\\'SubstitutionSubstitution, Manchester United Women. Aoife Mannion replaces Nikita Parris.81\\'Post updateOffside, Chelsea Women. Ève Périsset tries a through ball, but Johanna Rytting Kaneryd is caught offside.79\\'Post updateAttempt missed. Melanie Leupolz (Chelsea Women) right footed shot from the centre of the box is just a bit too high.79\\'Post updateAttempt saved. Katie Zelem (Manchester United Women) right footed shot from outside the box is saved in the top centre of the goal.78\\'Post updateRachel Williams (Manchester United Women) wins a free kick in the attacking half.78\\'Post updateFoul by Ève Périsset (Chelsea Women).75\\'SubstitutionSubstitution, Chelsea Women. Magdalena Eriksson replaces Jessie Fleming.75\\'Post updateFoul by Maya Le Tissier (Manchester United Women).75\\'Post updateKadeisha Buchanan (Chelsea Women) wins a free kick in the defensive half.Page 1 of 4rewindpreviousNavigate to the next pagenextNavigate to the last pageforward'"
      ]
     },
     "execution_count": 97,
     "metadata": {},
     "output_type": "execute_result"
    }
   ],
   "source": [
    "soup3.find(class_=\"qa-story-body\").text"
   ]
  },
  {
   "cell_type": "code",
   "execution_count": 100,
   "id": "806991df",
   "metadata": {},
   "outputs": [
    {
     "data": {
      "text/plain": [
       "'Women\\'s Super League Highlights: Chelsea 1-0 Man UtdSam Kerr\\'s brilliant first-half strike was enough to give Chelsea a crucial victory over Manchester United and return them to the top of the Women\\'s Super League.Emma Hayes\\' injury-hit side started the day a point behind United, albeit with a game in hand, but Kerr\\'s 23rd-minute goal decided a tight game and gave Chelsea a huge win in a thrilling title race.United dominated possession early on but were given two warnings as Kerr twice tested visiting goalkeeper Mary Earps. However, there was no let off the third time.Lauren James played a pinpoint ball over the top from the right touchline, Kerr timed her run to perfection, brought the ball down on her chest, then lifted it gloriously over Earps and into the far corner.Follow live updates of Sunday\\'s WSL actionMarc Skinner\\'s side had an opportunity to equalise almost immediately when a Chelsea slip allowed Ella Toone space in the box. But the England attacking midfielder seemed torn between going for goal and crossing, and the result was neither one nor the other as the ball sailed wide.United felt they should have had a penalty in the 33rd minute when Nikita Parris went down under contact from Kadeisha Buchanan, but referee Cheryl Foster waved played on.Kerr remained Chelsea\\'s main threat in the second half, muscling Maya le Tissier off the ball before side-footing just wide. And while United pushed for a leveller in the closing stages, they failed to create any clear chances and the hosts held on.\"We deserved it - that was a Chelsea performance,\" Hayes said.\"Depleted - we have a sickness bug in the camp - we couldn\\'t play Erin Cuthbert carrying a knock and Jelena Cankovic is carrying a knock too. \"What a tremendous squad I have and I\\'ve been saying it every week that it was time for other players to step up.\"It\\'s just a massive three points and when we came into the game, we had played two games more than Manchester United since they last kicked-off.\"They played Leicester earlier last weekend, so to win like that and against a team who are top of the league is amazing for my team - fantastic effort.\"Chelsea are now two points clear at the top as they bid for a sixth WSL title.Kerr quality helps Chelsea overcome injury problems\\'One of the goals of the season\\' - Kerr hits superb openerThe depth of talent available to Chelsea is no secret but with Fran Kirby, Guro Reiten, Pernille Harder, Katerina Svitkova and Erin Cuthbert all unavailable, they needed every last bit of it against United.Even in a team of stars, Kerr has often shone brightest and - like so many great players - has a knack of delivering when it matters most.In a game of few chances, Kerr was a threat throughout with her very presence seeming to unnerve a United backline that had been breached just eight times in the WSL this campaign.\"Listen, she should have had a hat-trick,\" Hayes added. \"To be fair, I\\'ll say that because that\\'s how good she is. \"We set up really well to get her into good goalscoring positions - and let\\'s talk about the work she does for the team defensively because everybody had to put a shift in.\"An early ball over the top was not fully dealt with by the away team and Kerr was able to steal in and bring a save from Earps.After 12 minutes, Melanie Leupolz slid the ball through to Kerr and after holding off Le Tissier, saw her left-footed shot saved by the legs of Earps.There was nothing the England keeper could do when Kerr next went through, though. The pass from James was exquisite, the first touch from the striker was excellent but the angle wasn\\'t easy and Le Tissier was on her shoulder.Kerr made the lobbed finish look simple. A moment of genius that deserved to win such a mammoth top-of-the-table clash.A week after losing the League Cup final, Chelsea have taken a big stride towards a fifth WSL crown in six years.United lack cutting edge as title bid faltersAfter finishing fourth last season, that United are even in a title race shows the progress they have made.At the home of the defending champions, they controlled possession for long spells of the game and, for all that Kerr tormented the defence, they still managed to limit Chelsea\\'s opportunities.But at no stage did they really look like unlocking a stubborn home defence.\"We knew we are going to be without the ball for large periods and everyone was disciplined in their roles which they carried out the gameplan to perfection, \" Chelsea boss Hayes said.Toone had the chance to create something just after the goal but she and Alessia Russo were largely kept quiet by Chelsea.The non-penalty award after Parris appeared to be tripped by Buchanan will rankle but given the lofty ambitions for this side, Skinner will also be frustrated by the failure to trouble an under-strength Chelsea more.Millie Turner\\'s back-post header and a sliced effort from Leah Galton were as close as they came with Chelsea able to keep them at arm\\'s length.The title race still has a way to go but with Chelsea in a position to stretch their lead to five points by winning their game in hand, there is no more margin for error and United cannot afford another off day from an attack that has been so prolific for much of the season.'"
      ]
     },
     "execution_count": 100,
     "metadata": {},
     "output_type": "execute_result"
    }
   ],
   "source": [
    "a = soup3.find(class_=\"qa-story-body\").text.split(\"Player of the match\",1)[0]\n",
    "a.split(\"Line-upsMatch Stats\", 1)[0]"
   ]
  },
  {
   "cell_type": "code",
   "execution_count": 102,
   "id": "2d86cfd1",
   "metadata": {},
   "outputs": [
    {
     "data": {
      "text/plain": [
       "'Women\\'s Super League Highlights: Chelsea 1-0 Man UtdSam Kerr\\'s brilliant first-half strike was enough to give Chelsea a crucial victory over Manchester United and return them to the top of the Women\\'s Super League.Emma Hayes\\' injury-hit side started the day a point behind United, albeit with a game in hand, but Kerr\\'s 23rd-minute goal decided a tight game and gave Chelsea a huge win in a thrilling title race.United dominated possession early on but were given two warnings as Kerr twice tested visiting goalkeeper Mary Earps. However, there was no let off the third time.Lauren James played a pinpoint ball over the top from the right touchline, Kerr timed her run to perfection, brought the ball down on her chest, then lifted it gloriously over Earps and into the far corner.Follow live updates of Sunday\\'s WSL actionMarc Skinner\\'s side had an opportunity to equalise almost immediately when a Chelsea slip allowed Ella Toone space in the box. But the England attacking midfielder seemed torn between going for goal and crossing, and the result was neither one nor the other as the ball sailed wide.United felt they should have had a penalty in the 33rd minute when Nikita Parris went down under contact from Kadeisha Buchanan, but referee Cheryl Foster waved played on.Kerr remained Chelsea\\'s main threat in the second half, muscling Maya le Tissier off the ball before side-footing just wide. And while United pushed for a leveller in the closing stages, they failed to create any clear chances and the hosts held on.\"We deserved it - that was a Chelsea performance,\" Hayes said.\"Depleted - we have a sickness bug in the camp - we couldn\\'t play Erin Cuthbert carrying a knock and Jelena Cankovic is carrying a knock too. \"What a tremendous squad I have and I\\'ve been saying it every week that it was time for other players to step up.\"It\\'s just a massive three points and when we came into the game, we had played two games more than Manchester United since they last kicked-off.\"They played Leicester earlier last weekend, so to win like that and against a team who are top of the league is amazing for my team - fantastic effort.\"Chelsea are now two points clear at the top as they bid for a sixth WSL title.Kerr quality helps Chelsea overcome injury problems\\'One of the goals of the season\\' - Kerr hits superb openerThe depth of talent available to Chelsea is no secret but with Fran Kirby, Guro Reiten, Pernille Harder, Katerina Svitkova and Erin Cuthbert all unavailable, they needed every last bit of it against United.Even in a team of stars, Kerr has often shone brightest and - like so many great players - has a knack of delivering when it matters most.In a game of few chances, Kerr was a threat throughout with her very presence seeming to unnerve a United backline that had been breached just eight times in the WSL this campaign.\"Listen, she should have had a hat-trick,\" Hayes added. \"To be fair, I\\'ll say that because that\\'s how good she is. \"We set up really well to get her into good goalscoring positions - and let\\'s talk about the work she does for the team defensively because everybody had to put a shift in.\"An early ball over the top was not fully dealt with by the away team and Kerr was able to steal in and bring a save from Earps.After 12 minutes, Melanie Leupolz slid the ball through to Kerr and after holding off Le Tissier, saw her left-footed shot saved by the legs of Earps.There was nothing the England keeper could do when Kerr next went through, though. The pass from James was exquisite, the first touch from the striker was excellent but the angle wasn\\'t easy and Le Tissier was on her shoulder.Kerr made the lobbed finish look simple. A moment of genius that deserved to win such a mammoth top-of-the-table clash.A week after losing the League Cup final, Chelsea have taken a big stride towards a fifth WSL crown in six years.United lack cutting edge as title bid faltersAfter finishing fourth last season, that United are even in a title race shows the progress they have made.At the home of the defending champions, they controlled possession for long spells of the game and, for all that Kerr tormented the defence, they still managed to limit Chelsea\\'s opportunities.But at no stage did they really look like unlocking a stubborn home defence.\"We knew we are going to be without the ball for large periods and everyone was disciplined in their roles which they carried out the gameplan to perfection, \" Chelsea boss Hayes said.Toone had the chance to create something just after the goal but she and Alessia Russo were largely kept quiet by Chelsea.The non-penalty award after Parris appeared to be tripped by Buchanan will rankle but given the lofty ambitions for this side, Skinner will also be frustrated by the failure to trouble an under-strength Chelsea more.Millie Turner\\'s back-post header and a sliced effort from Leah Galton were as close as they came with Chelsea able to keep them at arm\\'s length.The title race still has a way to go but with Chelsea in a position to stretch their lead to five points by winning their game in hand, there is no more margin for error and United cannot afford another off day from an attack that has been so prolific for much of the season.'"
      ]
     },
     "execution_count": 102,
     "metadata": {},
     "output_type": "execute_result"
    }
   ],
   "source": [
    "soup3.find(class_=\"qa-story-body\").text.split(\"Player of the match\",1)[0].split(\"Line-upsMatch Stats\", 1)[0]"
   ]
  },
  {
   "cell_type": "code",
   "execution_count": null,
   "id": "2e12cead",
   "metadata": {},
   "outputs": [],
   "source": [
    "title = []\n",
    "date =[]\n",
    "report = []\n",
    "section = []\n",
    "text = []\n",
    "urls = []\n",
    "\n",
    "for i in range(1000, 5000):\n",
    "    num = 64852076 - i\n",
    "    url = f'https://www.bbc.co.uk/sport/football/{num}'\n",
    "    r = requests.get(url)\n",
    "    soup = BeautifulSoup(r.text, 'html.parser')\n",
    "    try:\n",
    "        if type(soup.find('h1').text) == str:\n",
    "            if soup.find('h1').text == '\\n     Sorry, this service is temporarily unavailable\\n        ':\n",
    "                pass\n",
    "            else:\n",
    "                title.append(soup.find('h1').text)\n",
    "                try:\n",
    "                    if type(soup.find(class_ = \"event-header\").text) == str:\n",
    "                        report.append(1)\n",
    "                except AttributeError:\n",
    "                    report.append(0)\n",
    "                section.append(soup.find(class_ = \"story-info\").text.split(\"section\",1)[1].split(\"comments\",1)[0])\n",
    "                text.append(soup.find(class_=\"qa-story-body\").text.split(\"Player of the match\",1)[0].split(\"Line-upsMatch Stats\", 1)[0])\n",
    "                date.append(datetime.strptime(soup3.find(\"time\").text, '%a %d %b %Y').date())\n",
    "                urls.append(url)\n",
    "    except AttributeError:\n",
    "        pass\n",
    "    \n",
    "data = {\"title\" : title,\n",
    "        \"date\": date,\n",
    "        'report' : report,\n",
    "        'section' : section,\n",
    "        'text': text,\n",
    "         'url' : urls}"
   ]
  },
  {
   "cell_type": "code",
   "execution_count": 158,
   "id": "6377f34d",
   "metadata": {},
   "outputs": [
    {
     "data": {
      "text/plain": [
       "{'title': ['Man Utd 0-0 Southampton: Saints earn draw against 10-man Man Utd',\n",
       "  \"Arsenal 4-0 Reading: Gunners boost top-four hopes with comfortable win in Women's Super League\",\n",
       "  'Brighton 1-2 Manchester City: Khadija Shaw hits crucial late winner in WSL title race',\n",
       "  \"Chelsea 1-0 Manchester United: Sam Kerr sends hosts top of Women's Super League\",\n",
       "  'Leicester City 0-0 Everton: Foxes remain bottom of table after draw',\n",
       "  \"West Ham 1-2 Aston Villa: Rachel Daly and Jordan Nobbs extend visitors' unbeaten run to six games\",\n",
       "  \"Liverpool 2-1 Tottenham: Reds comeback extends Spurs' losing WSL run\",\n",
       "  'Norwich City 0-1 Sunderland: Abdoullah Ba earns Black Cats victory',\n",
       "  \"St Mirren 1-5 Celtic: 'Healthy anxiety' drives Ange Postecoglou's side to 250 goals\",\n",
       "  \"Jim Goodwin: Dundee Utd manager 'hit on head' by coin in Aberdeen defeat\",\n",
       "  'Premier League relegation battle: Nine teams separated by just six points',\n",
       "  'Paris St-Germain 4-2 Nantes: Kylian Mbappe scores club record goal as Ligue 1 leaders win',\n",
       "  'Stuttgart 1-2 Bayern Munich: Visitors return to top of Bundesliga with win'],\n",
       " 'date': [datetime.date(2023, 3, 12),\n",
       "  datetime.date(2023, 3, 12),\n",
       "  datetime.date(2023, 3, 12),\n",
       "  datetime.date(2023, 3, 12),\n",
       "  datetime.date(2023, 3, 12),\n",
       "  datetime.date(2023, 3, 12),\n",
       "  datetime.date(2023, 3, 12),\n",
       "  datetime.date(2023, 3, 12),\n",
       "  datetime.date(2023, 3, 12),\n",
       "  datetime.date(2023, 3, 12),\n",
       "  datetime.date(2023, 3, 12),\n",
       "  datetime.date(2023, 3, 12),\n",
       "  datetime.date(2023, 3, 12)],\n",
       " 'report': [1, 1, 1, 1, 1, 1, 1, 1, 0, 0, 0, 1, 1],\n",
       " 'section': [' Premier League',\n",
       "  \" Women's Football\",\n",
       "  \" Women's Football\",\n",
       "  \" Women's Football\",\n",
       "  \" Women's Football\",\n",
       "  \" Women's Football\",\n",
       "  \" Women's Football\",\n",
       "  ' Championship',\n",
       "  ' Celtic',\n",
       "  ' Dundee Utd',\n",
       "  ' Premier League',\n",
       "  ' European Football',\n",
       "  ' European Football'],\n",
       " 'text': ['Casemiro has picked up two red cards for Manchester United this seasonManchester United manager Erik ten Hag has defended Casemiro after a Premier League red card against bottom club Southampton that leaves the midfielder facing a four-match ban. Casemiro was dismissed after 34 minutes of the 0-0 draw for a tackle on Carlos Alcaraz, but Ten Hag has not ruled out an appeal.The midfielder\\'s sending off followed a VAR review, with referee Anthony Taylor overturning his initial decision to show a yellow card for a tackle that hit the top of the ball first before going into Southampton forward Alcaraz\\'s leg.As Casemiro was also dismissed against Crystal Palace last month, an additional game will be added to an automatic three-match ban, meaning he won\\'t be able to play a domestic match again until the trip to Nottingham Forest on 15 April.\"When you freeze anything it looks bad - but everyone who knows something about top football knows what is bad and what is fair,\" said Ten Hag. \"And Casemiro is a really fair player. Tough but fair.\"It shows, he had played over 500 games in big leagues and never been sent off. Now it has happened twice.\"Ten Hag complained about the lack of consistency in the use of VAR, noting the referee was not sent to the monitor to review controversial incidents in Saturday\\'s game between Leicester and Chelsea. Despite having a man advantage for almost an hour and managing 17 shots, Southampton were unable to capitalise and remain bottom of the Premier League. Even before Casemiro\\'s early exit, David de Gea needed to make a brilliant reaction save to turn away Theo Walcott\\'s close-range header.De Gea then produced a one-handed save after the break when Walcott ran clear of the home defence, while Aaron Wan-Bissaka cleared off the line when Scott McTominay turned a Kyle Walker-Peters cross towards his own goal. In addition, James Ward-Prowse\\'s free-kick skimmed of the top of the bar and Walker-Peters also hit a post with an angled drive.United had some dangerous moments themselves, with captain Bruno Fernandes\\' goalbound effort tipped on to the inside of a post by Gavin Bazunu.The result consolidated United\\'s top-four position, whilst Southampton are effectively three points from safety given their goal difference, with 12 games of the campaign remaining.Go straight to all the best Manchester United contentVisit our Southampton pageSouthampton show improvementDespite their position in the table, Southampton\\'s form is good.They have now picked up seven points from four games since Nathan Jones was sacked on 12 February.It represents their most productive run since August and Wednesday\\'s rearranged game with Brentford does offer the opportunity for Ruben Selles\\' side to climb out of the relegation zone for the first time since the end of October.Nevertheless, their goalscoring is a concern - in only one league match since August have they scored more than once. They had the chances to improve that statistic at Old Trafford but couldn\\'t make them count.Casemiro\\'s ill disciplineCasemiro has been one of the key reasons behind United\\'s improvement this season.But the positivity around the Brazilian is in danger of being undermined by his disciplinary record.Sent off against Crystal Palace last month for grabbing Will Hughes round the neck following a mass confrontation, his latest red card was also triggered by the intervention of VAR.Casemiro did play the top of the ball first but Taylor decided the tackle was dangerous.Ten Hag said Casemiro was emotional in the dressing room afterwards. \"He is disappointed,\" Ten Hag said.Unless United manage a successful appeal, the four-match suspension would rule him out of next week\\'s FA Cup quarter-final with Fulham, plus the three Premier League games that follow.',\n",
       "  'WSL: Arsenal thrash Reading 4-0 to close gap to leaders ChelseaRuthless Arsenal boosted their Champions League qualification hopes after cruising past Reading at Meadow Park in the Women\\'s Super League.Kim Little\\'s fourth-minute penalty opened the scoring for the Gunners after Easther Mayi Kith brought down Katie McCabe in the area.Frida Maanum added a second just before half-time and created Arsenal\\'s third when her cross was turned in by Reading defender Emma Mukandi two minutes after the restart.Arsenal\\'s fourth came through Leah Williamson, who tucked home a rebound in the 69th minute.Victory left Arsenal three points behind Manchester City in third place, having played one game fewer and boasting a superior goal difference.\"I think we have improved [and] developed, today was some of the best attacking football I have seen from us,\" Arsenal boss Jonas Eidevall told Sky Sports.\"It\\'s just three points but I like the way we have been playing the whole week.\"Reading remained in ninth, three points clear of bottom side Leicester City.Follow live-text coverage of Arsenal\\'s match with ReadingGunners March on after convincing displayArsenal\\'s brilliant March continues. The Gunners beat Chelsea in the League Cup final last weekend, before dispatching Liverpool in midweek.\"The [League Cup final] was the catalyst,\" added Eidevall.\"I think it helped, it showed ourselves what we are capable of. Why not try to repeat it and even try to go a little bit higher every time we are playing?\"The Gunners started quickly, immediately winning a penalty. Reading goalkeeper Grace Moloney got a glove to Little\\'s strike from the spot, but was beaten for power diving to her left.Maanum deservedly doubled Arsenal\\'s lead, slotting home Caitlin Foord\\'s cut-back, before the Norwegian\\'s cross was poked into her own net by Reading defender Mukandi.England captain Williamson found the net for the first time in more than a year for the Gunners after Stina Blackstenius\\' initial shot was saved.Arsenal created chances throughout and it was only down to smart stops from Moloney that limited the scoreline.Blackstenius should have added a fifth goal in the closing stages, rounding Moloney but sending her finish wide from a tight angle.\"You know sometimes, where you can\\'t explain it, you just need it to click?\" Williamson told Sky Sports. \"You can just see a shift and a change in everybody and everybody believes.\"Lacklustre Reading\\'s away struggles continueReading are the only side without an away point in the WSL so far this season, losing all eight of their games on the road while conceding 24 goals.They offered very little after falling behind, not recording a shot in the first half.Rachel Rowe clipped the top of the bar in the second period after a counter-attack, and fired another effort wide in the closing stages.Defeat means the Royals have now lost 12 of their 14 WSL meetings with Arsenal, drawing the other two.They face Chelsea next on Sunday in the FA Cup quarter-finals, while Arsenal take on Bayern Munich in the first leg of their Champions League last-eight tie on Tuesday, 21 March.',\n",
       "  \"WSL: Khadija Shaw's 89th-minute winner keeps Man City's title hopes aliveKhadija Shaw struck an 89th-minute winner as Manchester City overcame Brighton to keep their Women's Super League title hopes alive.Shaw, the WSL's top-scorer, finished off a slick move to put the visitors in front after 21 minutes before Elisabeth Terland levelled for Brighton 12 minutes later.City were the dominant side for much of the game but despite spending the majority of the second half in Brighton territory, looked like they would have to settle for a point.However, the pressure finally told and Shaw collected a loose ball just inside the penalty area and hit a low left-footed shot past a helpless Megan Walsh in the Brighton goal.The win extends City's unbeaten run to 13 WSL games and puts them level on points with rivals Manchester United in second place, just two points behind leaders Chelsea, although Gareth Taylor's side have played a game more.Brighton remain in 11th with eight points and face a battle to retain their top-flight status.Follow live updates of Sunday's WSL actionBetter late than never for Man CityWhen Chloe Kelly's fierce shot whistled across the face of goal and just wide of the post with just two minutes remaining, it looked like City's wait for a first WSL title since 2016 would continue for another year.Little more than 60 seconds later, Shaw was wheeling away in celebration and City are dreaming again.Up until that point, it had been a frustrating afternoon for the visitors at Broadfield Stadium with chances going begging and even when they did convert one - Shaw combining brilliantly with Yui Hasegawa before slotting past Walsh - they soon let Brighton back in.The home side, led by interim manager Amy Merricks, had seen two goals disallowed already before Terland cut back on to her right foot to curl into the far corner to round off a swift counter-attack.Brighton's threat on the break and their inability to quell it only added to City's frustrations.Kelly saw a powerful strike tipped over the bar by Walsh, while Shaw was also denied by the Brighton stopper and had another effort deflected wide.But their persistence was rewarded eventually and, with a huge home game against Chelsea to come in two weeks' time, the WSL title is still there to be won and Shaw's late goal could prove an even more crucial moment come the end of the season.\",\n",
       "  'Women\\'s Super League Highlights: Chelsea 1-0 Man UtdSam Kerr\\'s brilliant first-half strike was enough to give Chelsea a crucial victory over Manchester United and return them to the top of the Women\\'s Super League.Emma Hayes\\' injury-hit side started the day a point behind United, albeit with a game in hand, but Kerr\\'s 23rd-minute goal decided a tight game and gave Chelsea a huge win in a thrilling title race.United dominated possession early on but were given two warnings as Kerr twice tested visiting goalkeeper Mary Earps. However, there was no let off the third time.Lauren James played a pinpoint ball over the top from the right touchline, Kerr timed her run to perfection, brought the ball down on her chest, then lifted it gloriously over Earps and into the far corner.Follow live updates of Sunday\\'s WSL actionMarc Skinner\\'s side had an opportunity to equalise almost immediately when a Chelsea slip allowed Ella Toone space in the box. But the England attacking midfielder seemed torn between going for goal and crossing, and the result was neither one nor the other as the ball sailed wide.United felt they should have had a penalty in the 33rd minute when Nikita Parris went down under contact from Kadeisha Buchanan, but referee Cheryl Foster waved played on.Kerr remained Chelsea\\'s main threat in the second half, muscling Maya le Tissier off the ball before side-footing just wide. And while United pushed for a leveller in the closing stages, they failed to create any clear chances and the hosts held on.\"We deserved it - that was a Chelsea performance,\" Hayes said.\"Depleted - we have a sickness bug in the camp - we couldn\\'t play Erin Cuthbert carrying a knock and Jelena Cankovic is carrying a knock too. \"What a tremendous squad I have and I\\'ve been saying it every week that it was time for other players to step up.\"It\\'s just a massive three points and when we came into the game, we had played two games more than Manchester United since they last kicked-off.\"They played Leicester earlier last weekend, so to win like that and against a team who are top of the league is amazing for my team - fantastic effort.\"Chelsea are now two points clear at the top as they bid for a sixth WSL title.Kerr quality helps Chelsea overcome injury problems\\'One of the goals of the season\\' - Kerr hits superb openerThe depth of talent available to Chelsea is no secret but with Fran Kirby, Guro Reiten, Pernille Harder, Katerina Svitkova and Erin Cuthbert all unavailable, they needed every last bit of it against United.Even in a team of stars, Kerr has often shone brightest and - like so many great players - has a knack of delivering when it matters most.In a game of few chances, Kerr was a threat throughout with her very presence seeming to unnerve a United backline that had been breached just eight times in the WSL this campaign.\"Listen, she should have had a hat-trick,\" Hayes added. \"To be fair, I\\'ll say that because that\\'s how good she is. \"We set up really well to get her into good goalscoring positions - and let\\'s talk about the work she does for the team defensively because everybody had to put a shift in.\"An early ball over the top was not fully dealt with by the away team and Kerr was able to steal in and bring a save from Earps.After 12 minutes, Melanie Leupolz slid the ball through to Kerr and after holding off Le Tissier, saw her left-footed shot saved by the legs of Earps.There was nothing the England keeper could do when Kerr next went through, though. The pass from James was exquisite, the first touch from the striker was excellent but the angle wasn\\'t easy and Le Tissier was on her shoulder.Kerr made the lobbed finish look simple. A moment of genius that deserved to win such a mammoth top-of-the-table clash.A week after losing the League Cup final, Chelsea have taken a big stride towards a fifth WSL crown in six years.United lack cutting edge as title bid faltersAfter finishing fourth last season, that United are even in a title race shows the progress they have made.At the home of the defending champions, they controlled possession for long spells of the game and, for all that Kerr tormented the defence, they still managed to limit Chelsea\\'s opportunities.But at no stage did they really look like unlocking a stubborn home defence.\"We knew we are going to be without the ball for large periods and everyone was disciplined in their roles which they carried out the gameplan to perfection, \" Chelsea boss Hayes said.Toone had the chance to create something just after the goal but she and Alessia Russo were largely kept quiet by Chelsea.The non-penalty award after Parris appeared to be tripped by Buchanan will rankle but given the lofty ambitions for this side, Skinner will also be frustrated by the failure to trouble an under-strength Chelsea more.Millie Turner\\'s back-post header and a sliced effort from Leah Galton were as close as they came with Chelsea able to keep them at arm\\'s length.The title race still has a way to go but with Chelsea in a position to stretch their lead to five points by winning their game in hand, there is no more margin for error and United cannot afford another off day from an attack that has been so prolific for much of the season.',\n",
       "  \"Everton had won all three of their WSL games against Leicester before SundayLeicester City are now just a point off Women's Super League safety after they held Everton to a goalless draw at King Power Stadium.Everton had the match's best effort when Aggie Beever-Jones was kept out brilliantly by Leicester keeper Janina Leitzig in the 89th minute with Izzy Christiansen knocking the rebound wide.Earlier Leitzig denied Katja Snoeijs on the hour mark.Leicester stayed 12th, 13 points off Everton in sixth.Follow Sunday's Women's Super League actionHaving lost 15 of their 16 league games between March and December last year, Leicester came into this fixture having won two of their past four and knowing victory over Everton would take them out of the WSL drop zone.Both sides were tentative in their approach, with the first shot on target coming through Snoeijs in the 60th minute, the forward kept out by the left boot of Leitzig.And Leitzig was needed again in the final stages to deny Beever-Jones with her feet from close range.The Toffees have now failed to score in each of their past three matches for the first time since January 2019.Leicester's best opportunity came in the 85th minute but Missy Goodwin's shot was scuffed off target after a great cross from Carrie Jones.Everton won the reverse fixture 1-0 thanks to Kirstie Levell's 94th-minute own goal, but there was to be no stoppage-time drama in the East Midlands.The Foxes are now a point behind 11th-placed Brighton, who lost to Manchester City earlier on Sunday.Everton play rivals Liverpool in their next match on March 24 (19:30 GMT), while Leicester face Tottenham away on Wednesday (19:00).\",\n",
       "  \"WSL highlights: Jordan Nobbs and Rachel Daly score as Aston Villa beat West HamGoals from Rachel Daly and Jordan Nobbs helped Aston Villa maintain their unbeaten start to 2023 with victory over West Ham in the Women's Super League.Villa had the better of the first half and took the lead after 34 minutes when Daly swivelled and arrowed a shot into the far corner from just outside the box.Nobbs doubled the lead on 62 minutes as she slid in to convert Kirsty Hanson's low cross at the near post after the Manchester United loanee had been freed down the left by Daly.West Ham pulled a goal back through Viviane Asseyi. With 11 minutes left, the forward was left unmarked at the back post to head home from Dagny Brynjarsdottir's cross.Follow live updates from all of Sunday's WSL actionAsseyi had so nearly opened the scoring in the first half after a surging run through the middle, but saw her shot come back off the post.The hosts upped the intensity in the closing stages as they tried to force an equaliser and, in the 96th minute, Villa goalkeeper Hannah Hampton managed to fight her way through a crowd of bodies after an initial fumble before punching the ball clear.The win is Villa's first over West Ham in the WSL.Carla Ward's side have now won four and drawn two matches since the turn of the year to cement themselves in fifth place, while West Ham stay seventh as their winless run stretched to five.\",\n",
       "  \"WSL highlights: Liverpool come from behind to beat Tottenham HotspurLiverpool came from behind to beat Tottenham, whose Women's Super League losing run extended to nine matches.Rosella Ayane had put Spurs in front in the 17th minute at Prenton Park.But the Reds were soon level through Emma Koivisto before the turnaround was complete thanks to Missy Bo Kearns' finish in the 35th minute.Liverpool dominated in the second half but could not add a third as they secured their first WSL win in three games.The hosts remained eighth in the WSL table, five points clear of 10th-placed Tottenham, who are two points above bottom-placed Leicester.Follow Sunday's Women's Super League actionRuthless Reds get boost ahead of derbyLiverpool's victory ended their own two-match losing run in all competitions, although they were fortunate to be level.Tottenham defender Kerys Harrop saw her clearance ricochet off the boot of Koivisto and loop over goalkeeper Tinja-Riikka Korpela into the net.But the Reds' winner was slick, with Koivisto squaring the ball to Kearns for a side-footed finish.Katie Stengel had a brilliant opportunity to add a third in injury time but dragged her shot wide when through on goal.The result will boost Liverpool ahead of the Merseyside derby with rivals Everton on Friday 24, March, while Tottenham face Leicester on Wednesday in their next outing.Spurs still search for elusive winTottenham are on an awful run. Since beating Brighton 8-0 in October Rehanne Skinner's side have lost nine league games on the bounce, conceding at least two goals in eight of those defeats.Just as they did against Manchester City last Sunday, Tottenham took the lead as Ayane found room on the edge of the box before firing the ball into the bottom corner.And after falling behind, Spurs created a handful more chances with Bethany England forcing Liverpool keeper Rachael Laws into a fine save just before the break.England had another chance straight after the restart, firing into the side-netting, but Tottenham looked toothless in attack in the closing stages.\",\n",
       "  'Abdoullah Ba fired Sunderland ahead with his first goal for the clubAbdoullah Ba\\'s first Sunderland goal was enough to snap the Wearsiders\\' losing streak as they overcame Norwich.The 19-year-old midfielder collected Joe Gelhardt\\'s pass and fired into the bottom corner to give his side an early lead at Carrow Road.The Black Cats, who had lost their past three Championship matches, defended solidly to keep Norwich at bay.It meant the Canaries missed their chance to regain a top-six place, while Sunderland climb to 10th.Ba, making only his fourth start for Sunderland, was one of three changes to the line-up that lost 5-1 at home to Stoke a week ago, with both Amad Diallo and Alex Pritchard missing out due to injury.Norwich had the better of the opening exchanges, with Teemu Pukki threatening several times and Max Aarons unleashing a drive that was clawed behind by Black Cats goalkeeper Anthony Patterson.Yet it was the visitors who went ahead in the 15th minute, with Gelhardt picking out Ba, who worked his way into position on the edge of the box and struck a low left-foot finish beyond the diving Angus Gunn.Ba\\'s goal rocked the Canaries, who struggled to respond and almost conceded a second soon afterwards when Gelhardt found himself in space but bundled the chance straight at Gunn.Norwich boss David Wagner made several changes early in the second half, including the return of Josh Sargent, who had netted the only goal in his side\\'s win at the Stadium of Light earlier in the season.However, the home side were unable to ask any serious questions of Patterson, who held a routine header from Grant Hanley and also kept out Pukki\\'s volley without much difficulty.It was Sunderland who went closest to changing the scoreline when Jack Clarke\\'s ferocious drive thudded off Gunn\\'s chest and bounced loose, but Gelhardt was unable to capitalise on the rebound.The visitors had five players booked as they dug in during the closing stages, surviving six added minutes to seal the win that lifts them to within five points of the play-off positions and three behind their seventh-placed opponents.Norwich head coach David Wagner told BBC Radio Norfolk:\"The performance was disappointing, especially in the first half. We were too slow in moving and passing, we were sloppy and we didn\\'t look focused.\"We were not able to get the intensity and energy on the grass and this is why we deserved to be 1-0 down.\"The second half was better, without creating enough clear-cut chances. We haven\\'t used the width well enough, we tried to go centrally too often and maybe we rushed it a little bit because we wanted to correct what we\\'d done in the first half.\"It\\'s a setback for sure but it\\'s up to us to take it on the chin, speak honestly about what went wrong and make sure we recover.\"Sunderland manager Tony Mowbray told BBC Radio Newcastle:\"We knew how the game was going to go and the team worked really hard. When a team tries to pass through you, you have to be set up to play the way we did today.\"Of course we had to dig in, because Norwich are a good team and they pushed us back, but we got the job done. I\\'m pleased for the supporters who made a really long trip.\"Hopefully this young team can keep pushing on. We\\'ve got 52 points and we\\'re not looking over our shoulders.\"We\\'ve got 10 games to go and the ones we lose, put them in the bin. The ones we win, let\\'s see how many points we can accrue and where that takes us.\"',\n",
       "  'Oh Hyeon-Gyu rolls in Celtic\\'s 250th goal under Ange Postecoglou to make it 5-1 against St MirrenFor a brief moment during Celtic\\'s win over St Mirren, a tiny dose of doubt crept in as to whether Ange Postecoglou\\'s side might suffer a similar fate as to their last visit to Paisley, their only domestic defeat this season.As St Mirren took an early lead, you could sense the idea that one or two Rangers fans might have moved towards the edge of their seats, anticipating the first glimmer of hope they could somehow muster a miraculous challenge for the title.That didn\\'t last long. Celtic\\'s answer was emphatic and a measure of the progress and continuous development the manager extracts from this squad.Yes, Celtic were assisted by Charles Dunne\\'s momentary lapse in concentration and red card that ripped St Mirren\\'s effective game plan apart.However, that word squad is key. Celtic put five by 10-man St MirrenGet all of your Celtic news in one place on the BBCReaction & as it happenedPre-match, Postecoglou emphasised his view there is too much focus on starting line ups.Celtic started with the same 11 who took to the field in the Viaplay Cup final. Postecoglou introduced exactly the same players from the bench. Their impact was telling as the game flipped from 1-0 down to 5-1 up.\"We always know in these kind of games, whether it\\'s 10 or 11 men, we\\'ll overrun the opposition,\" the Australian explained.\"Again, a really good impact from the guys coming on, I thought they were outstanding.\"It doesn\\'t matter what the opposition are doing and what the context of the game is.\"That\\'s 250 goals under Postecoglou in just under 100 competitive matches. It equates to an average of almost exactly 2.5 goals a game. That relentlessness is reaping consistent and emphatic reward.There were five different scorers in Paisley, including from two new recruits in the form of Alistair Johnston and Oh Hyeon-gyu . But this is nothing new.This season Celtic have had 19 different scorers in the Premiership, the highest number of any club. That\\'s four above title rivals Rangers, and 10 more than Kilmarnock at the bottom of the pack.\"It would\\'ve been very easy say at 3-1, for us to just cruise through the rest of the game but it\\'s not who we are,\" said the Celtic manager. \"We\\'re going right to the final whistle.\"\\'It\\'s like a healthy anxiety\\'Going back even further, since the Australian\\'s arrival in Scotland, the league stats simply don\\'t lie. They\\'ve earned 13 points more than Rangers, racked up six more wins, 35 extra goals, and have conceded nine fewer.\"I\\'m not sure it\\'s a pressure, it\\'s like a healthy anxiety but a good one,\" explained Jota.\"We already know all the situations of the game, the timings, when there\\'s a back four, back five, what to do if they press us high. \"We have been working on our game since the beginning of our adventure one and a half years ago. We are just so used to what to do in the pitch.\"We have our strength. We just adapt. Our idea of the game didn\\'t change.\" \\'VAR doesn\\'t miss anything, especially with us\\'This outcome is no fluke. There appears to be absolute buy-in from the squad, even those not starting. A belief in their process that is continuously working right now. Against St Mirren, most players off the bench took their chance with Liel Abada making a big impact, Matt O\\'Riley netting and Oh showing another glimpse of his potential.\"He (Ange) just keeps getting better, it\\'s not plateaued since he arrived at the club and if you listen to his interviews, he\\'s not one to rest on his laurels is he?\" asked Sportsound pundit Steven Thompson.\"He\\'s going to keep pushing these players and if you\\'re not cutting it, you\\'re out the door.\"You can only see them getting better, which is a pretty frightening prospect for the rest of the Scottish Premiership.\"',\n",
       "  'Jim Goodwin has said he was struck by a coin during Dundee United\\'s defeat by his former club Aberdeen.As well as coins, Goodwin said food and drink were also thrown during his first game in charge of the Tannadice club.Police Scotland are speaking to both clubs and reviewing CCTV footage.\"You\\'re standing on the touchline trying to do our job and at the same time you\\'re trying to dodge all these coins that are coming raining down on top of you,\" he said.\"It was extremely disappointing.\"Visit our Dundee United page for all the latest news, analysis and fan viewsYou can now get Aberdeen news notifications in the BBC Sport app - find out moreGoodwin left Aberdeen on 28 January in the wake of a 6-0 defeat by Hibernian and he was appointed by United on Wednesday.\"I wasn\\'t expecting a warm reception,\" said Goodwin. \"When you get sacked from a club, the finger of blame is always at the manager and then the fans aren\\'t slow in letting you know that.\"I done my best at Aberdeen, I gave my all in every day that I was in there. I was as desperate as they were for success. Unfortunately, it didn\\'t work out.\"I\\'m not sure that me not being a good enough manager for them at the time warrants coins being thrown at me. One of them hit me on the top of my head. I had a pie chucked at me at half-time and a cup of juice.\"It\\'s extremely disappointing and it\\'s disappointing for Aberdeen as a football club because it\\'s a fantastic football club, very well supported. The travelling support for Aberdeen are incredible and unfortunately there\\'s always that minority, that small few of idiots, really, who go and drag the rest of the club down with them. It\\'ll be dealt with no doubt.\"A Police Scotland spokesperson told BBC Scotland: \"Officers are aware of media reporting around objects being thrown onto the pitch at Tannadice Park, during a match on the evening of Saturday, 4 March, 2023.\"Whilst no reports have been made to Police Scotland, we are engaging with the clubs involved to establish the circumstances. Enquiries are ongoing which will include a review of CCTV footage.\"\\'They have let the club and themselves down\\'Aberdeen said in a statement on Sunday evening: \"The travelling support at Tannadice on Saturday night was impressive in both numbers and voice. Our away form has been disappointing this season, so it was an incredible turnout from Dons fans and everyone at the club is hugely appreciative of the continued support and huge backing.\"Regrettably, a handful of those have impacted the reputation of that amazing support. They have let the club and themselves down.\"Numerous pyrotechnic devises were ignited and thrown on to the pitch - with one narrowly missing Ryan Duncan. It\\'s been reported that several objects were also thrown in the direction of Jim Goodwin.\"Enquiries have begun and we are working together with Dundee United FC and Police Scotland. If and when the culprits are identified, they will be dealt with by both the club and the authorities.\"Our plea to this minority is to continue to give the team the fantastic support that we are known for but do that in a safe and respectful manner that doesn\\'t endanger either the health or safety of any player, staff or your fellow supporters.\"Our coverage of Dundee United is bigger and better than ever before - here\\'s everything you need to know to make sure you never miss a momentEverything Dundee United - go straight to all the best content',\n",
       "  'Everton getting stronger - DycheThe fight to stay in the Premier League is hotting up, with nine clubs separated by just six points after another dramatic weekend.Southampton, who started the weekend bottom, and Wolves were the big winners after victories over Leicester and Tottenham respectively.But Bournemouth, Leeds, West Ham and Crystal Palace - along with Leicester - all lost. Meanwhile, Everton missed the chance to climb out of the bottom three after an entertaining 2-2 draw at Nottingham Forest.While Palace, who are 12th, have 27 points, bottom club Bournemouth have 21 - just six points fewer.\"It will go down to the wire, it is absolutely fascinating,\" said former Crystal Palace striker Clinton Morrison, who was at the Forest game for BBC Radio 5 Live.\"It\\'s a huge point for both Forest and Everton. They are both coming off the back of losses. A good point in the end, maybe better for Forest. But teams in and around them have lost.\"\\'We showed we are up for this\\' - Forest twice fight back against EvertonForest boss Steve Cooper believes his players proved they are up for the fight to stay in the Premier League after twice coming from behind to draw with Everton.\"They gave everything and showed courage,\" he added.\"Small steps and we\\'ll look no further than that. We have got to relish the challenges. It\\'s tough but we wouldn\\'t want it any other way. We showed we\\'re up for it.\"Nottingham Forest 2-2 Everton: Steve Cooper \\'frustrated\\' with referee after drawIt was Everton\\'s first point away from home under Sean Dyche and the Toffees boss also concentrated on the positives despite twice failing to defend the lead.\"We are a work in progress,\" said Dyche. \"I feel the performances are getting better and stronger. It\\'s a great building block to carry on the journey with.\"\\'We are fighting together\\' - Saints and Wolves get precious winsSouthampton 1-0 Leicester: Ruben Selles \\'very proud\\' after Saints winSouthampton boss Ruben Selles believes his side are \"still alive\" as they climbed off the foot of the Premier League table with a vital victory over Leicester City.\"I think every point, every three points helps for us,\" said Selles to the BBC\\'s Match of the Day after Southampton moved to within a point of a position of Premier League safety with their 1-0 win over Leicester.\"We are fighting together, playing together, doing things together. That\\'s the way to get out of relegation,\" he added.Southampton\\'s win was just their second at home this season and ended a run of five straight losses at St Mary\\'s across all competitions.There was also joy for Wolves who, thanks to an Adama Traore winner eight minutes from time, went up to 13th, five points off the bottom three, with a narrow victory over Tottenham.\"There are eight or nine teams fighting for the same thing,\" said midfielder Ruben Neves after the match.\"We are not the worst when we lose a game and we are not the best when we win.\"\\'We probably need 40 points\\' - Leicester and West Ham in deep troubleSouthampton 1-0 Leicester: Foxes deserved more after defeat - Brendan RodgersAs Saints and Wolves rise, Leicester fall. Since the Premier League resumed after the World Cup, the Foxes have picked up just seven points from 10 matches.\"I don\\'t think right up until the mid-table are any teams thinking they\\'re safe,\" Leicester boss Brendan Rodgers told BBC Match of the Day with his side two points clear of the drop zone.Like Leicester, West Ham find themselves in difficulties, one points off the bottom three in 16th after a humiliating 4-0 defeat at Brighton on Saturday.\"If we\\'d won today it would\\'ve made us feel a lot easier,\" said under-pressure Hammers manager David Moyes to MOTD.\"We\\'re probably all looking at around 40 points to stay away from the bottom of the league, but the only thing you can do is take each game as it comes.\"\"It is sore. I\\'ll definitely take all the responsibility, because that\\'s what happens as a manager, but also players need to stand up and be counted. I\\'m sure they will. They are a good group.\"West Ham and Leicester finished seventh and eighth last season. This year, both their managers are facing tougher times with supporters showing their discontent.MOTD host Gary Lineker said: \"West Ham fans were singing [to Moyes] \\'You\\'re getting sacked in the morning\\', how quickly things change in football.\"Pundit Danny Murphy replied: \"I don\\'t think he [Moyes] should be [sacked]. I know they are disappointed. They are in a fight and he\\'s the right man.\"\\'We are devastated\\' - Bournemouth go bottomDevastating to lose like that - O\\'NeilBournemouth slipped to 20th after a heartbreaking last-gasp 3-2 loss to leaders Arsenal on Saturday having lead 2-0 midway through the second half.\"We\\'re devastated that we suffered a late goal and deserved to take something,\" said boss Gary O\\'Neil to BBC MOTD.They were joined in defeat by Crystal Palace, who were dragged back into the scrap for survival following a 1-0 loss to Aston Villa. The Eagles are winless since New Year\\'s Eve.\"I\\'m not more worried than I was after the game against Liverpool [last weekend],\" said manager Patrick Vieira. \"It\\'s important for us to bounce back and start winning games. Of course it is tight and we have to keep working well and working hard.\"Palace stayed 12th, five points above the drop zone while relegation rivals Leeds remain 17th, after losing 1-0 away to out-of-form Chelsea.\"Now we are thinking about the next game with all the confidence we can and with the support of our fans,\" Leeds boss Javi Gracia told BBC MOTD after his side\\'s 13th league defeat of the season.\"We know we are able to get points.\"Who will be relegated?Predict who will be the Premier League\\'s bottom three this seasonFirst1Second2Third3Confirm selectionOur coverage of your Premier League club is bigger and better than ever before - follow your team and sign up for notifications in the BBC Sport app to make sure you never miss a moment',\n",
       "  'Kylian Mbappe has scored 201 goals in 247 games for Paris St-Germain since joining in 2017Kylian Mbappe scored a club record 201st goal for Paris St-Germain in an entertaining 4-2 win over Nantes.He had to wait until the 92nd minute but was clinical as he turned to finish left-footed and go clear of Edinson Cavani at the top of the PSG goal list.The France forward, who turned 24 in December, has established himself as a footballing superstar.\"I play to make history,\" said Mbappe, who joined in 2017 initially on loan from Monaco before a 180m euros move.\"I have always said I wanted to make history in France, in the capital of my country, in my city, and I am doing that. It\\'s magnificent, but there is still a lot to be done.\"Mbappe finished the game as captain and told Canal Plus: \"For me, as a native Parisian, this is special. If someone had said to me I would score the goal to beat the record while wearing the captain\\'s armband, I would not have believed it.\"The Frenchman has played at two World Cup finals, winning the trophy in 2018 and earning the Golden Boot as top scorer in 2022.Mbappe, who also won the 2021 Nations League with his country, scored a hat-trick in December\\'s World Cup final against Argentina, which France lost on penalties after a 3-3 draw.Since joining PSG from Monaco in 2017 for a world-record fee for a teenager, Mbappe has won four Ligue 1 titles and topped the division\\'s scoring charts for each of the past four seasons.This season, the forward has now scored 30 goals and made eight assists - taking his total to 85 for the club in 247 games.PSG went 2-0 up at the Parc des Princes with Lionel Messi opening the scoring before Jaouen Hadjam\\'s own goal.However, Nantes came back to level before half-time thanks to goals from Ludovic Blas and Ignatius Ganago, with PSG goalkeeper Gianluigi Donnarumma caught out at his near post for the first and making a fumble that led to the second.Mbappe crossed for Danilo Pereira to head the home side back in front on the hour mark before his crowning moment came late in the game.',\n",
       "  \"Matthijs de Ligt opened the scoring for Bayern Munich at the Mercedes-Benz ArenaBayern Munich returned to the top of the Bundesliga with victory at Stuttgart.Matthjis de Ligt opened the scoring with a low strike from distance in the 39th minute before Eric Maxim Choupo-Moting doubled the lead in the 62nd.Choupo-Moting's goal - set up by good work from Jamal Musiala and Thomas Muller - came the day after he signed a new one-year contract at Bayern.Stuttgart pulled a goal back through Juan Jose Perea with two minutes to go.German Bundesliga tableVictory sends Julian Nagelsmann's side back to the top of the Bundesliga standings, ahead of Borussia Dortmund on goal difference.Dortmund had overtaken Bayern and gone three points clear at the summit with a 2-1 win over RB Leipzig on Friday.\"],\n",
       " 'url': ['https://www.bbc.co.uk/sport/football/64852076',\n",
       "  'https://www.bbc.co.uk/sport/football/64852040',\n",
       "  'https://www.bbc.co.uk/sport/football/64852039',\n",
       "  'https://www.bbc.co.uk/sport/football/64852038',\n",
       "  'https://www.bbc.co.uk/sport/football/64852037',\n",
       "  'https://www.bbc.co.uk/sport/football/64852035',\n",
       "  'https://www.bbc.co.uk/sport/football/64852034',\n",
       "  'https://www.bbc.co.uk/sport/football/64852027',\n",
       "  'https://www.bbc.co.uk/sport/football/64851750',\n",
       "  'https://www.bbc.co.uk/sport/football/64851603',\n",
       "  'https://www.bbc.co.uk/sport/football/64851560',\n",
       "  'https://www.bbc.co.uk/sport/football/64851286',\n",
       "  'https://www.bbc.co.uk/sport/football/64851279']}"
      ]
     },
     "execution_count": 158,
     "metadata": {},
     "output_type": "execute_result"
    }
   ],
   "source": [
    "data"
   ]
  },
  {
   "cell_type": "code",
   "execution_count": 160,
   "id": "bf0382fb",
   "metadata": {},
   "outputs": [
    {
     "data": {
      "text/html": [
       "<div>\n",
       "<style scoped>\n",
       "    .dataframe tbody tr th:only-of-type {\n",
       "        vertical-align: middle;\n",
       "    }\n",
       "\n",
       "    .dataframe tbody tr th {\n",
       "        vertical-align: top;\n",
       "    }\n",
       "\n",
       "    .dataframe thead th {\n",
       "        text-align: right;\n",
       "    }\n",
       "</style>\n",
       "<table border=\"1\" class=\"dataframe\">\n",
       "  <thead>\n",
       "    <tr style=\"text-align: right;\">\n",
       "      <th></th>\n",
       "      <th>title</th>\n",
       "      <th>date</th>\n",
       "      <th>report</th>\n",
       "      <th>section</th>\n",
       "      <th>text</th>\n",
       "      <th>url</th>\n",
       "    </tr>\n",
       "  </thead>\n",
       "  <tbody>\n",
       "    <tr>\n",
       "      <th>0</th>\n",
       "      <td>Man Utd 0-0 Southampton: Saints earn draw agai...</td>\n",
       "      <td>2023-03-12</td>\n",
       "      <td>1</td>\n",
       "      <td>Premier League</td>\n",
       "      <td>Casemiro has picked up two red cards for Manch...</td>\n",
       "      <td>https://www.bbc.co.uk/sport/football/64852076</td>\n",
       "    </tr>\n",
       "    <tr>\n",
       "      <th>1</th>\n",
       "      <td>Arsenal 4-0 Reading: Gunners boost top-four ho...</td>\n",
       "      <td>2023-03-12</td>\n",
       "      <td>1</td>\n",
       "      <td>Women's Football</td>\n",
       "      <td>WSL: Arsenal thrash Reading 4-0 to close gap t...</td>\n",
       "      <td>https://www.bbc.co.uk/sport/football/64852040</td>\n",
       "    </tr>\n",
       "    <tr>\n",
       "      <th>2</th>\n",
       "      <td>Brighton 1-2 Manchester City: Khadija Shaw hit...</td>\n",
       "      <td>2023-03-12</td>\n",
       "      <td>1</td>\n",
       "      <td>Women's Football</td>\n",
       "      <td>WSL: Khadija Shaw's 89th-minute winner keeps M...</td>\n",
       "      <td>https://www.bbc.co.uk/sport/football/64852039</td>\n",
       "    </tr>\n",
       "    <tr>\n",
       "      <th>3</th>\n",
       "      <td>Chelsea 1-0 Manchester United: Sam Kerr sends ...</td>\n",
       "      <td>2023-03-12</td>\n",
       "      <td>1</td>\n",
       "      <td>Women's Football</td>\n",
       "      <td>Women's Super League Highlights: Chelsea 1-0 M...</td>\n",
       "      <td>https://www.bbc.co.uk/sport/football/64852038</td>\n",
       "    </tr>\n",
       "    <tr>\n",
       "      <th>4</th>\n",
       "      <td>Leicester City 0-0 Everton: Foxes remain botto...</td>\n",
       "      <td>2023-03-12</td>\n",
       "      <td>1</td>\n",
       "      <td>Women's Football</td>\n",
       "      <td>Everton had won all three of their WSL games a...</td>\n",
       "      <td>https://www.bbc.co.uk/sport/football/64852037</td>\n",
       "    </tr>\n",
       "    <tr>\n",
       "      <th>5</th>\n",
       "      <td>West Ham 1-2 Aston Villa: Rachel Daly and Jord...</td>\n",
       "      <td>2023-03-12</td>\n",
       "      <td>1</td>\n",
       "      <td>Women's Football</td>\n",
       "      <td>WSL highlights: Jordan Nobbs and Rachel Daly s...</td>\n",
       "      <td>https://www.bbc.co.uk/sport/football/64852035</td>\n",
       "    </tr>\n",
       "    <tr>\n",
       "      <th>6</th>\n",
       "      <td>Liverpool 2-1 Tottenham: Reds comeback extends...</td>\n",
       "      <td>2023-03-12</td>\n",
       "      <td>1</td>\n",
       "      <td>Women's Football</td>\n",
       "      <td>WSL highlights: Liverpool come from behind to ...</td>\n",
       "      <td>https://www.bbc.co.uk/sport/football/64852034</td>\n",
       "    </tr>\n",
       "    <tr>\n",
       "      <th>7</th>\n",
       "      <td>Norwich City 0-1 Sunderland: Abdoullah Ba earn...</td>\n",
       "      <td>2023-03-12</td>\n",
       "      <td>1</td>\n",
       "      <td>Championship</td>\n",
       "      <td>Abdoullah Ba fired Sunderland ahead with his f...</td>\n",
       "      <td>https://www.bbc.co.uk/sport/football/64852027</td>\n",
       "    </tr>\n",
       "    <tr>\n",
       "      <th>8</th>\n",
       "      <td>St Mirren 1-5 Celtic: 'Healthy anxiety' drives...</td>\n",
       "      <td>2023-03-12</td>\n",
       "      <td>0</td>\n",
       "      <td>Celtic</td>\n",
       "      <td>Oh Hyeon-Gyu rolls in Celtic's 250th goal unde...</td>\n",
       "      <td>https://www.bbc.co.uk/sport/football/64851750</td>\n",
       "    </tr>\n",
       "    <tr>\n",
       "      <th>9</th>\n",
       "      <td>Jim Goodwin: Dundee Utd manager 'hit on head' ...</td>\n",
       "      <td>2023-03-12</td>\n",
       "      <td>0</td>\n",
       "      <td>Dundee Utd</td>\n",
       "      <td>Jim Goodwin has said he was struck by a coin d...</td>\n",
       "      <td>https://www.bbc.co.uk/sport/football/64851603</td>\n",
       "    </tr>\n",
       "    <tr>\n",
       "      <th>10</th>\n",
       "      <td>Premier League relegation battle: Nine teams s...</td>\n",
       "      <td>2023-03-12</td>\n",
       "      <td>0</td>\n",
       "      <td>Premier League</td>\n",
       "      <td>Everton getting stronger - DycheThe fight to s...</td>\n",
       "      <td>https://www.bbc.co.uk/sport/football/64851560</td>\n",
       "    </tr>\n",
       "    <tr>\n",
       "      <th>11</th>\n",
       "      <td>Paris St-Germain 4-2 Nantes: Kylian Mbappe sco...</td>\n",
       "      <td>2023-03-12</td>\n",
       "      <td>1</td>\n",
       "      <td>European Football</td>\n",
       "      <td>Kylian Mbappe has scored 201 goals in 247 game...</td>\n",
       "      <td>https://www.bbc.co.uk/sport/football/64851286</td>\n",
       "    </tr>\n",
       "    <tr>\n",
       "      <th>12</th>\n",
       "      <td>Stuttgart 1-2 Bayern Munich: Visitors return t...</td>\n",
       "      <td>2023-03-12</td>\n",
       "      <td>1</td>\n",
       "      <td>European Football</td>\n",
       "      <td>Matthijs de Ligt opened the scoring for Bayern...</td>\n",
       "      <td>https://www.bbc.co.uk/sport/football/64851279</td>\n",
       "    </tr>\n",
       "  </tbody>\n",
       "</table>\n",
       "</div>"
      ],
      "text/plain": [
       "                                                title        date  report  \\\n",
       "0   Man Utd 0-0 Southampton: Saints earn draw agai...  2023-03-12       1   \n",
       "1   Arsenal 4-0 Reading: Gunners boost top-four ho...  2023-03-12       1   \n",
       "2   Brighton 1-2 Manchester City: Khadija Shaw hit...  2023-03-12       1   \n",
       "3   Chelsea 1-0 Manchester United: Sam Kerr sends ...  2023-03-12       1   \n",
       "4   Leicester City 0-0 Everton: Foxes remain botto...  2023-03-12       1   \n",
       "5   West Ham 1-2 Aston Villa: Rachel Daly and Jord...  2023-03-12       1   \n",
       "6   Liverpool 2-1 Tottenham: Reds comeback extends...  2023-03-12       1   \n",
       "7   Norwich City 0-1 Sunderland: Abdoullah Ba earn...  2023-03-12       1   \n",
       "8   St Mirren 1-5 Celtic: 'Healthy anxiety' drives...  2023-03-12       0   \n",
       "9   Jim Goodwin: Dundee Utd manager 'hit on head' ...  2023-03-12       0   \n",
       "10  Premier League relegation battle: Nine teams s...  2023-03-12       0   \n",
       "11  Paris St-Germain 4-2 Nantes: Kylian Mbappe sco...  2023-03-12       1   \n",
       "12  Stuttgart 1-2 Bayern Munich: Visitors return t...  2023-03-12       1   \n",
       "\n",
       "               section                                               text  \\\n",
       "0       Premier League  Casemiro has picked up two red cards for Manch...   \n",
       "1     Women's Football  WSL: Arsenal thrash Reading 4-0 to close gap t...   \n",
       "2     Women's Football  WSL: Khadija Shaw's 89th-minute winner keeps M...   \n",
       "3     Women's Football  Women's Super League Highlights: Chelsea 1-0 M...   \n",
       "4     Women's Football  Everton had won all three of their WSL games a...   \n",
       "5     Women's Football  WSL highlights: Jordan Nobbs and Rachel Daly s...   \n",
       "6     Women's Football  WSL highlights: Liverpool come from behind to ...   \n",
       "7         Championship  Abdoullah Ba fired Sunderland ahead with his f...   \n",
       "8               Celtic  Oh Hyeon-Gyu rolls in Celtic's 250th goal unde...   \n",
       "9           Dundee Utd  Jim Goodwin has said he was struck by a coin d...   \n",
       "10      Premier League  Everton getting stronger - DycheThe fight to s...   \n",
       "11   European Football  Kylian Mbappe has scored 201 goals in 247 game...   \n",
       "12   European Football  Matthijs de Ligt opened the scoring for Bayern...   \n",
       "\n",
       "                                              url  \n",
       "0   https://www.bbc.co.uk/sport/football/64852076  \n",
       "1   https://www.bbc.co.uk/sport/football/64852040  \n",
       "2   https://www.bbc.co.uk/sport/football/64852039  \n",
       "3   https://www.bbc.co.uk/sport/football/64852038  \n",
       "4   https://www.bbc.co.uk/sport/football/64852037  \n",
       "5   https://www.bbc.co.uk/sport/football/64852035  \n",
       "6   https://www.bbc.co.uk/sport/football/64852034  \n",
       "7   https://www.bbc.co.uk/sport/football/64852027  \n",
       "8   https://www.bbc.co.uk/sport/football/64851750  \n",
       "9   https://www.bbc.co.uk/sport/football/64851603  \n",
       "10  https://www.bbc.co.uk/sport/football/64851560  \n",
       "11  https://www.bbc.co.uk/sport/football/64851286  \n",
       "12  https://www.bbc.co.uk/sport/football/64851279  "
      ]
     },
     "execution_count": 160,
     "metadata": {},
     "output_type": "execute_result"
    }
   ],
   "source": [
    "df1 = pd.DataFrame(data)\n",
    "df"
   ]
  },
  {
   "cell_type": "code",
   "execution_count": null,
   "id": "fae7f0bf",
   "metadata": {},
   "outputs": [],
   "source": []
  }
 ],
 "metadata": {
  "kernelspec": {
   "display_name": "Python 3 (ipykernel)",
   "language": "python",
   "name": "python3"
  },
  "language_info": {
   "codemirror_mode": {
    "name": "ipython",
    "version": 3
   },
   "file_extension": ".py",
   "mimetype": "text/x-python",
   "name": "python",
   "nbconvert_exporter": "python",
   "pygments_lexer": "ipython3",
   "version": "3.9.12"
  }
 },
 "nbformat": 4,
 "nbformat_minor": 5
}
